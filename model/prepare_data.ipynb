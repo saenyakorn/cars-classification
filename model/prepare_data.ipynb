{
 "cells": [
  {
   "cell_type": "code",
   "execution_count": 1,
   "metadata": {},
   "outputs": [],
   "source": [
    "import pandas as pd\n",
    "from sklearn.model_selection import train_test_split\n",
    "import requests\n",
    "from tqdm.notebook import tqdm"
   ]
  },
  {
   "cell_type": "code",
   "execution_count": 2,
   "metadata": {},
   "outputs": [],
   "source": [
    "df = pd.read_csv('../data/car.csv')"
   ]
  },
  {
   "cell_type": "code",
   "execution_count": 3,
   "metadata": {},
   "outputs": [
    {
     "data": {
      "text/html": [
       "<div>\n",
       "<style scoped>\n",
       "    .dataframe tbody tr th:only-of-type {\n",
       "        vertical-align: middle;\n",
       "    }\n",
       "\n",
       "    .dataframe tbody tr th {\n",
       "        vertical-align: top;\n",
       "    }\n",
       "\n",
       "    .dataframe thead th {\n",
       "        text-align: right;\n",
       "    }\n",
       "</style>\n",
       "<table border=\"1\" class=\"dataframe\">\n",
       "  <thead>\n",
       "    <tr style=\"text-align: right;\">\n",
       "      <th></th>\n",
       "      <th>kind</th>\n",
       "      <th>name</th>\n",
       "      <th>image_url</th>\n",
       "      <th>start_year</th>\n",
       "      <th>end_year</th>\n",
       "      <th>doors</th>\n",
       "    </tr>\n",
       "  </thead>\n",
       "  <tbody>\n",
       "    <tr>\n",
       "      <th>0</th>\n",
       "      <td>SUV cars</td>\n",
       "      <td>Audi Q3 1.4 TFSI</td>\n",
       "      <td>https://www.cars-data.com/pictures/thumbs/350p...</td>\n",
       "      <td>2013</td>\n",
       "      <td>2015</td>\n",
       "      <td>5</td>\n",
       "    </tr>\n",
       "    <tr>\n",
       "      <th>1</th>\n",
       "      <td>SUV cars</td>\n",
       "      <td>Audi Q5 2.0 TFSI 180hp quattro</td>\n",
       "      <td>https://www.cars-data.com/pictures/thumbs/350p...</td>\n",
       "      <td>2009</td>\n",
       "      <td>2012</td>\n",
       "      <td>5</td>\n",
       "    </tr>\n",
       "    <tr>\n",
       "      <th>2</th>\n",
       "      <td>SUV cars</td>\n",
       "      <td>Audi Q7 3.6 FSI quattro</td>\n",
       "      <td>https://www.cars-data.com/pictures/thumbs/350p...</td>\n",
       "      <td>2008</td>\n",
       "      <td>2008</td>\n",
       "      <td>5</td>\n",
       "    </tr>\n",
       "    <tr>\n",
       "      <th>3</th>\n",
       "      <td>SUV cars</td>\n",
       "      <td>Audi Q7 3.0 TFSI 272hp quattro</td>\n",
       "      <td>https://www.cars-data.com/pictures/thumbs/350p...</td>\n",
       "      <td>2010</td>\n",
       "      <td>2015</td>\n",
       "      <td>5</td>\n",
       "    </tr>\n",
       "    <tr>\n",
       "      <th>4</th>\n",
       "      <td>SUV cars</td>\n",
       "      <td>BMW X1 sDrive18i</td>\n",
       "      <td>https://www.cars-data.com/pictures/thumbs/350p...</td>\n",
       "      <td>2010</td>\n",
       "      <td>2011</td>\n",
       "      <td>5</td>\n",
       "    </tr>\n",
       "  </tbody>\n",
       "</table>\n",
       "</div>"
      ],
      "text/plain": [
       "       kind                            name  \\\n",
       "0  SUV cars                Audi Q3 1.4 TFSI   \n",
       "1  SUV cars  Audi Q5 2.0 TFSI 180hp quattro   \n",
       "2  SUV cars         Audi Q7 3.6 FSI quattro   \n",
       "3  SUV cars  Audi Q7 3.0 TFSI 272hp quattro   \n",
       "4  SUV cars                BMW X1 sDrive18i   \n",
       "\n",
       "                                           image_url  start_year end_year  \\\n",
       "0  https://www.cars-data.com/pictures/thumbs/350p...        2013     2015   \n",
       "1  https://www.cars-data.com/pictures/thumbs/350p...        2009     2012   \n",
       "2  https://www.cars-data.com/pictures/thumbs/350p...        2008     2008   \n",
       "3  https://www.cars-data.com/pictures/thumbs/350p...        2010     2015   \n",
       "4  https://www.cars-data.com/pictures/thumbs/350p...        2010     2011   \n",
       "\n",
       "   doors  \n",
       "0      5  \n",
       "1      5  \n",
       "2      5  \n",
       "3      5  \n",
       "4      5  "
      ]
     },
     "execution_count": 3,
     "metadata": {},
     "output_type": "execute_result"
    }
   ],
   "source": [
    "df.head()"
   ]
  },
  {
   "cell_type": "code",
   "execution_count": 4,
   "metadata": {},
   "outputs": [],
   "source": [
    "df.drop(['name', 'start_year', 'end_year', 'doors'], axis=1, inplace=True)"
   ]
  },
  {
   "cell_type": "code",
   "execution_count": 5,
   "metadata": {},
   "outputs": [],
   "source": [
    "df['kind'] = pd.factorize(df['kind'])[0]"
   ]
  },
  {
   "cell_type": "code",
   "execution_count": 6,
   "metadata": {},
   "outputs": [],
   "source": [
    "df.reset_index(inplace=True)"
   ]
  },
  {
   "cell_type": "code",
   "execution_count": 7,
   "metadata": {},
   "outputs": [],
   "source": [
    "y = df.pop('kind')\n",
    "x = df"
   ]
  },
  {
   "cell_type": "code",
   "execution_count": 8,
   "metadata": {},
   "outputs": [],
   "source": [
    "x_train, x_test, y_train, y_test = train_test_split(x,y,test_size=0.2,train_size=0.8, stratify=y, random_state=123)\n",
    "x_train, x_val, y_train, y_val = train_test_split(x_train,y_train,test_size = 0.25,train_size =0.75, stratify=y_train, random_state=123)"
   ]
  },
  {
   "cell_type": "code",
   "execution_count": 9,
   "metadata": {},
   "outputs": [
    {
     "data": {
      "text/html": [
       "<div>\n",
       "<style scoped>\n",
       "    .dataframe tbody tr th:only-of-type {\n",
       "        vertical-align: middle;\n",
       "    }\n",
       "\n",
       "    .dataframe tbody tr th {\n",
       "        vertical-align: top;\n",
       "    }\n",
       "\n",
       "    .dataframe thead th {\n",
       "        text-align: right;\n",
       "    }\n",
       "</style>\n",
       "<table border=\"1\" class=\"dataframe\">\n",
       "  <thead>\n",
       "    <tr style=\"text-align: right;\">\n",
       "      <th></th>\n",
       "      <th>index</th>\n",
       "      <th>image_url</th>\n",
       "    </tr>\n",
       "  </thead>\n",
       "  <tbody>\n",
       "    <tr>\n",
       "      <th>729</th>\n",
       "      <td>729</td>\n",
       "      <td>https://www.cars-data.com/pictures/thumbs/350p...</td>\n",
       "    </tr>\n",
       "    <tr>\n",
       "      <th>1887</th>\n",
       "      <td>1887</td>\n",
       "      <td>https://www.cars-data.com/pictures/thumbs/350p...</td>\n",
       "    </tr>\n",
       "    <tr>\n",
       "      <th>734</th>\n",
       "      <td>734</td>\n",
       "      <td>https://www.cars-data.com/pictures/thumbs/350p...</td>\n",
       "    </tr>\n",
       "    <tr>\n",
       "      <th>460</th>\n",
       "      <td>460</td>\n",
       "      <td>https://www.cars-data.com/pictures/thumbs/350p...</td>\n",
       "    </tr>\n",
       "    <tr>\n",
       "      <th>2431</th>\n",
       "      <td>2431</td>\n",
       "      <td>https://www.cars-data.com/pictures/thumbs/350p...</td>\n",
       "    </tr>\n",
       "    <tr>\n",
       "      <th>...</th>\n",
       "      <td>...</td>\n",
       "      <td>...</td>\n",
       "    </tr>\n",
       "    <tr>\n",
       "      <th>1879</th>\n",
       "      <td>1879</td>\n",
       "      <td>https://www.cars-data.com/pictures/thumbs/350p...</td>\n",
       "    </tr>\n",
       "    <tr>\n",
       "      <th>368</th>\n",
       "      <td>368</td>\n",
       "      <td>https://www.cars-data.com/pictures/thumbs/350p...</td>\n",
       "    </tr>\n",
       "    <tr>\n",
       "      <th>3482</th>\n",
       "      <td>3482</td>\n",
       "      <td>https://www.cars-data.com/pictures/thumbs/350p...</td>\n",
       "    </tr>\n",
       "    <tr>\n",
       "      <th>3175</th>\n",
       "      <td>3175</td>\n",
       "      <td>https://www.cars-data.com/pictures/thumbs/350p...</td>\n",
       "    </tr>\n",
       "    <tr>\n",
       "      <th>937</th>\n",
       "      <td>937</td>\n",
       "      <td>https://www.cars-data.com/pictures/thumbs/350p...</td>\n",
       "    </tr>\n",
       "  </tbody>\n",
       "</table>\n",
       "<p>2110 rows × 2 columns</p>\n",
       "</div>"
      ],
      "text/plain": [
       "      index                                          image_url\n",
       "729     729  https://www.cars-data.com/pictures/thumbs/350p...\n",
       "1887   1887  https://www.cars-data.com/pictures/thumbs/350p...\n",
       "734     734  https://www.cars-data.com/pictures/thumbs/350p...\n",
       "460     460  https://www.cars-data.com/pictures/thumbs/350p...\n",
       "2431   2431  https://www.cars-data.com/pictures/thumbs/350p...\n",
       "...     ...                                                ...\n",
       "1879   1879  https://www.cars-data.com/pictures/thumbs/350p...\n",
       "368     368  https://www.cars-data.com/pictures/thumbs/350p...\n",
       "3482   3482  https://www.cars-data.com/pictures/thumbs/350p...\n",
       "3175   3175  https://www.cars-data.com/pictures/thumbs/350p...\n",
       "937     937  https://www.cars-data.com/pictures/thumbs/350p...\n",
       "\n",
       "[2110 rows x 2 columns]"
      ]
     },
     "execution_count": 9,
     "metadata": {},
     "output_type": "execute_result"
    }
   ],
   "source": [
    "x_train"
   ]
  },
  {
   "cell_type": "code",
   "execution_count": 10,
   "metadata": {},
   "outputs": [],
   "source": [
    "def download_pic(df, df2, folder):\n",
    "    drops = []\n",
    "    for idx,row in tqdm(df.iterrows(), total=df.shape[0]):\n",
    "        r = requests.get(row['image_url'])\n",
    "        if r.headers['Content-type'] == 'image/jpeg':\n",
    "            with open(f\"../data/{folder}/{row['index']}.jpg\", 'wb') as f:\n",
    "                f.write(r.content)\n",
    "        else:\n",
    "            drops.append(idx)\n",
    "    return (df.drop(drops), df2.drop(drops))"
   ]
  },
  {
   "cell_type": "code",
   "execution_count": 11,
   "metadata": {},
   "outputs": [
    {
     "data": {
      "application/vnd.jupyter.widget-view+json": {
       "model_id": "e47d6f1ab15246b9b3647cb00e1f200a",
       "version_major": 2,
       "version_minor": 0
      },
      "text/plain": [
       "  0%|          | 0/2110 [00:00<?, ?it/s]"
      ]
     },
     "metadata": {},
     "output_type": "display_data"
    },
    {
     "data": {
      "application/vnd.jupyter.widget-view+json": {
       "model_id": "f35bb858432c40beabdac6f00a7176b8",
       "version_major": 2,
       "version_minor": 0
      },
      "text/plain": [
       "  0%|          | 0/704 [00:00<?, ?it/s]"
      ]
     },
     "metadata": {},
     "output_type": "display_data"
    },
    {
     "data": {
      "application/vnd.jupyter.widget-view+json": {
       "model_id": "a4dd3fc1548e4bbdb2edcea71061ac93",
       "version_major": 2,
       "version_minor": 0
      },
      "text/plain": [
       "  0%|          | 0/704 [00:00<?, ?it/s]"
      ]
     },
     "metadata": {},
     "output_type": "display_data"
    }
   ],
   "source": [
    "x_train, y_train = download_pic(x_train, y_train, 'train')\n",
    "x_val, y_val = download_pic(x_val, y_val, 'val')\n",
    "x_test, y_test = download_pic(x_test, y_test, 'test')"
   ]
  },
  {
   "cell_type": "code",
   "execution_count": 12,
   "metadata": {},
   "outputs": [],
   "source": [
    "def create_labels(x, y, folder):\n",
    "    labels = pd.concat([x['index'],y],axis=1)\n",
    "    labels.to_csv(f\"../data/{folder}/labels.csv\", index=False)"
   ]
  },
  {
   "cell_type": "code",
   "execution_count": 13,
   "metadata": {},
   "outputs": [],
   "source": [
    "create_labels(x_train,y_train,'train')\n",
    "create_labels(x_val,y_val,'val')\n",
    "create_labels(x_test,y_test,'test')"
   ]
  }
 ],
 "metadata": {
  "interpreter": {
   "hash": "851ad3827ade15f126283b8c8042c69c5b9ec84b281d2cf20f82bb0ef051bf16"
  },
  "kernelspec": {
   "display_name": "Python 3.8.11 ('CEM')",
   "language": "python",
   "name": "python3"
  },
  "language_info": {
   "codemirror_mode": {
    "name": "ipython",
    "version": 3
   },
   "file_extension": ".py",
   "mimetype": "text/x-python",
   "name": "python",
   "nbconvert_exporter": "python",
   "pygments_lexer": "ipython3",
   "version": "3.8.11"
  },
  "orig_nbformat": 4
 },
 "nbformat": 4,
 "nbformat_minor": 2
}
